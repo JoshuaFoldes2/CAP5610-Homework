{
  "nbformat": 4,
  "nbformat_minor": 0,
  "metadata": {
    "colab": {
      "name": "Untitled5.ipynb",
      "provenance": []
    },
    "kernelspec": {
      "name": "python3",
      "display_name": "Python 3"
    }
  },
  "cells": [
    {
      "cell_type": "code",
      "metadata": {
        "colab": {
          "base_uri": "https://localhost:8080/"
        },
        "id": "RXu3fusZcqjT",
        "outputId": "2fb47fc4-32e7-4f2a-8a38-100c71d95e06"
      },
      "source": [
        "import pandas as pd\r\n",
        "import numpy as np\r\n",
        "import matplotlib.pyplot as plt\r\n",
        "import csv\r\n",
        "from matplotlib import axes\r\n",
        "import math\r\n",
        "fullData = np.array([[3,3,2,2,6,6,7,7,8,7],[5,4,8,3,2,4,3,4,5,6]],dtype=\"float64\")\r\n",
        "centroid = np.array([[4,5],[6,4]],dtype=\"float64\")\r\n",
        "print(fullData.shape)\r\n",
        "print(centroid.shape)"
      ],
      "execution_count": 3,
      "outputs": [
        {
          "output_type": "stream",
          "text": [
            "(2, 10)\n",
            "(2, 2)\n"
          ],
          "name": "stdout"
        }
      ]
    },
    {
      "cell_type": "markdown",
      "metadata": {
        "id": "u9THPAWkXOF8"
      },
      "source": [
        "This is for Task 1"
      ]
    },
    {
      "cell_type": "code",
      "metadata": {
        "id": "JEoD62z9egtu"
      },
      "source": [
        "def manhattan(data,centroid,i,j,X):\r\n",
        "  total = 0\r\n",
        "  for k in range(X):\r\n",
        "    total = total + abs(data[k][i]-centroid[k][j])\r\n",
        "  return total\r\n",
        "def groupingM(centroid, data):\r\n",
        "    assigned_centroid = np.zeros((len(data[0]),1),dtype=\"float64\")\r\n",
        "    for i in range(len(data[0])):\r\n",
        "        distance=np.zeros((len(centroid[0]),1),dtype=\"float64\")\r\n",
        "        for j in range(len(centroid[0])):\r\n",
        "            distance[j] = manhattan(data,centroid,i,j,len(centroid))\r\n",
        "        assigned_centroid[i]=np.argmin(distance)\r\n",
        "    return assigned_centroid"
      ],
      "execution_count": 333,
      "outputs": []
    },
    {
      "cell_type": "code",
      "metadata": {
        "id": "C9PN3wG-Ke_Z"
      },
      "source": [
        "def centroidRedefiner(clusterList,data,centroids):\r\n",
        "  newCentroids = np.zeros(centroids.shape,dtype=\"float64\")\r\n",
        "  for i in range(len(centroids[0])):\r\n",
        "    number = 0\r\n",
        "    cumulative = np.zeros((len(centroids),1),dtype=\"float64\")\r\n",
        "    for j in range(len(clusterList)):\r\n",
        "      if(clusterList[j] == i):\r\n",
        "        number = number + 1\r\n",
        "        for k in range(len(cumulative)):\r\n",
        "          cumulative[k] = cumulative[k] + data[k][j]\r\n",
        "    for k in range(len(cumulative)):\r\n",
        "      newCentroids[k][i] = cumulative[k] / number\r\n",
        "  return newCentroids"
      ],
      "execution_count": 12,
      "outputs": []
    },
    {
      "cell_type": "code",
      "metadata": {
        "colab": {
          "base_uri": "https://localhost:8080/",
          "height": 315
        },
        "id": "xF3h8v68N4uh",
        "outputId": "311ca39e-3120-4478-9c7a-2e47b39f6646"
      },
      "source": [
        "#(1)\r\n",
        "clusterList = groupingM(centroid, fullData)\r\n",
        "Centroids = centroidRedefiner(clusterList, fullData,centroid)\r\n",
        "print(\"list of new centroids:\")\r\n",
        "for i in range(len(Centroids[0])):\r\n",
        "  print(\"(%f, %f)\"%(Centroids[0][i],Centroids[1][i]))\r\n",
        "plt.figure\r\n",
        "axes = plt.gca()\r\n",
        "axes.set_xlim([0,15])\r\n",
        "axes.set_ylim([0,15])\r\n",
        "plt.scatter(np.array(Centroids)[0,:], np.array(Centroids)[1,:], color='black')\r\n",
        "for i in range(len(fullData[0])):\r\n",
        "  if(clusterList[i] == 0):\r\n",
        "    plt.scatter(fullData[0,i], fullData[1,i], alpha=0.3, color = 'blue')\r\n",
        "  else:\r\n",
        "    plt.scatter(fullData[0,i], fullData[1,i], alpha=0.3, color = 'red')\r\n",
        "plt.show()"
      ],
      "execution_count": 335,
      "outputs": [
        {
          "output_type": "stream",
          "text": [
            "list of new centroids:\n",
            "(4.000000, 6.333333)\n",
            "(5.571429, 3.571429)\n"
          ],
          "name": "stdout"
        },
        {
          "output_type": "display_data",
          "data": {
            "image/png": "[encoded data removed]",
            "text/plain": [
              "<Figure size 432x288 with 1 Axes>"
            ]
          },
          "metadata": {
            "tags": [],
            "needs_background": "light"
          }
        }
      ]
    },
    {
      "cell_type": "code",
      "metadata": {
        "id": "kys5LwIVTDC6"
      },
      "source": [
        "def euclidian(data,centroid,i,j,X):\r\n",
        "  import math\r\n",
        "  total = 0\r\n",
        "  for k in range(X):\r\n",
        "    total = total + pow((centroid[k][j]-data[k][i]),2)\r\n",
        "  return math.sqrt(total)\r\n",
        "def groupingE(centroid, data):\r\n",
        "    assigned_centroid = np.zeros((len(data[0]),1),dtype=\"float64\")\r\n",
        "    for i in range(len(data[0])):\r\n",
        "        distance=np.zeros((len(centroid[0]),1),dtype=\"float64\")\r\n",
        "        for j in range(len(centroid[0])):\r\n",
        "            distance[j] = euclidian(data,centroid,i,j,len(centroid))\r\n",
        "        assigned_centroid[i]=np.argmin(distance)\r\n",
        "    return assigned_centroid"
      ],
      "execution_count": 10,
      "outputs": []
    },
    {
      "cell_type": "code",
      "metadata": {
        "colab": {
          "base_uri": "https://localhost:8080/",
          "height": 315
        },
        "id": "_3KPDIx8T03W",
        "outputId": "787d2f98-2f68-4a17-8b1f-e71297741e7d"
      },
      "source": [
        "#(2)\r\n",
        "clusterList = groupingE(centroid, fullData)\r\n",
        "Centroids = centroidRedefiner(clusterList, fullData,centroid)\r\n",
        "print(\"list of new centroids:\")\r\n",
        "for i in range(len(Centroids[0])):\r\n",
        "  print(\"(%f, %f)\"%(Centroids[0][i],Centroids[1][i]))\r\n",
        "plt.figure\r\n",
        "axes = plt.gca()\r\n",
        "axes.set_xlim([0,15])\r\n",
        "axes.set_ylim([0,15])\r\n",
        "plt.scatter(np.array(Centroids)[0,:], np.array(Centroids)[1,:], color='black')\r\n",
        "for i in range(len(fullData[0])):\r\n",
        "  if(clusterList[i] == 0):\r\n",
        "    plt.scatter(fullData[0,i], fullData[1,i], alpha=0.3, color = 'blue')\r\n",
        "  else:\r\n",
        "    plt.scatter(fullData[0,i], fullData[1,i], alpha=0.3, color = 'red')\r\n",
        "plt.show()"
      ],
      "execution_count": 337,
      "outputs": [
        {
          "output_type": "stream",
          "text": [
            "list of new centroids:\n",
            "(2.500000, 6.500000)\n",
            "(5.750000, 3.875000)\n"
          ],
          "name": "stdout"
        },
        {
          "output_type": "display_data",
          "data": {
            "image/png": "[encoded data removed]",
            "text/plain": [
              "<Figure size 432x288 with 1 Axes>"
            ]
          },
          "metadata": {
            "tags": [],
            "needs_background": "light"
          }
        }
      ]
    },
    {
      "cell_type": "code",
      "metadata": {
        "colab": {
          "base_uri": "https://localhost:8080/",
          "height": 315
        },
        "id": "vLCxVChgWco7",
        "outputId": "117736ec-4f98-455e-85a2-b0be2830d1c1"
      },
      "source": [
        "#(3)\r\n",
        "centroid = np.array([[3,8],[3,3]],dtype=\"float64\")\r\n",
        "clusterList = groupingM(centroid, fullData)\r\n",
        "Centroids = centroidRedefiner(clusterList, fullData,centroid)\r\n",
        "print(\"list of new centroids:\")\r\n",
        "for i in range(len(Centroids[0])):\r\n",
        "  print(\"(%f, %f)\"%(Centroids[0][i],Centroids[1][i]))\r\n",
        "plt.figure\r\n",
        "axes = plt.gca()\r\n",
        "axes.set_xlim([0,15])\r\n",
        "axes.set_ylim([0,15])\r\n",
        "plt.scatter(np.array(Centroids)[0,:], np.array(Centroids)[1,:], color='black')\r\n",
        "for i in range(len(fullData[0])):\r\n",
        "  if(clusterList[i] == 0):\r\n",
        "    plt.scatter(fullData[0,i], fullData[1,i], alpha=0.3, color = 'blue')\r\n",
        "  else:\r\n",
        "    plt.scatter(fullData[0,i], fullData[1,i], alpha=0.3, color = 'red')\r\n",
        "plt.show()"
      ],
      "execution_count": 338,
      "outputs": [
        {
          "output_type": "stream",
          "text": [
            "list of new centroids:\n",
            "(2.500000, 5.000000)\n",
            "(6.833333, 4.000000)\n"
          ],
          "name": "stdout"
        },
        {
          "output_type": "display_data",
          "data": {
            "image/png": "[encoded data removed]",
            "text/plain": [
              "<Figure size 432x288 with 1 Axes>"
            ]
          },
          "metadata": {
            "tags": [],
            "needs_background": "light"
          }
        }
      ]
    },
    {
      "cell_type": "code",
      "metadata": {
        "colab": {
          "base_uri": "https://localhost:8080/",
          "height": 315
        },
        "id": "MO9K0_iSWli3",
        "outputId": "73d7015a-8cf1-4eae-ba73-202a3cd9ae2d"
      },
      "source": [
        "#(4)\r\n",
        "centroid = np.array([[3,4],[2,8]],dtype=\"float64\")\r\n",
        "clusterList = groupingM(centroid, fullData)\r\n",
        "Centroids = centroidRedefiner(clusterList, fullData,centroid)\r\n",
        "print(\"list of new centroids:\")\r\n",
        "for i in range(len(Centroids[0])):\r\n",
        "  print(\"(%f, %f)\"%(Centroids[0][i],Centroids[1][i]))\r\n",
        "plt.figure\r\n",
        "axes = plt.gca()\r\n",
        "axes.set_xlim([0,15])\r\n",
        "axes.set_ylim([0,15])\r\n",
        "plt.scatter(np.array(Centroids)[0,:], np.array(Centroids)[1,:], color='black')\r\n",
        "for i in range(len(fullData[0])):\r\n",
        "  if(clusterList[i] == 0):\r\n",
        "    plt.scatter(fullData[0,i], fullData[1,i], alpha=0.3, color = 'blue')\r\n",
        "  else:\r\n",
        "    plt.scatter(fullData[0,i], fullData[1,i], alpha=0.3, color = 'red')\r\n",
        "plt.show()"
      ],
      "execution_count": 339,
      "outputs": [
        {
          "output_type": "stream",
          "text": [
            "list of new centroids:\n",
            "(4.857143, 3.571429)\n",
            "(5.666667, 6.333333)\n"
          ],
          "name": "stdout"
        },
        {
          "output_type": "display_data",
          "data": {
            "image/png": "[encoded data removed]",
            "text/plain": [
              "<Figure size 432x288 with 1 Axes>"
            ]
          },
          "metadata": {
            "tags": [],
            "needs_background": "light"
          }
        }
      ]
    },
    {
      "cell_type": "markdown",
      "metadata": {
        "id": "-a4KQujaYGlu"
      },
      "source": [
        "This is for Task 2"
      ]
    },
    {
      "cell_type": "code",
      "metadata": {
        "id": "85fPBSj9aSIK"
      },
      "source": [
        "import random\r\n",
        "def createCentroids(data,K):\r\n",
        "  random.seed(1)\r\n",
        "  indeces = random.sample(range(0, len(data[0])), K)\r\n",
        "  centroids = []\r\n",
        "  for i in range(K):\r\n",
        "    centroids.append(data[:,indeces[i]])\r\n",
        "  centroids = np.array(centroids)\r\n",
        "  centroids = centroids.T\r\n",
        "  return centroids\r\n",
        "def SSE(clusterList,data,centroids):\r\n",
        "  newCentroids = np.zeros(centroids.shape,dtype=\"float64\")\r\n",
        "  for i in range(len(centroids[0])):\r\n",
        "    number = 0\r\n",
        "    cumulative = np.zeros((len(centroids),1),dtype=\"float64\")\r\n",
        "    for j in range(len(clusterList)):\r\n",
        "      if(clusterList[j] == i):\r\n",
        "        number = number + 1\r\n",
        "        for k in range(len(cumulative)):\r\n",
        "          cumulative[k] = cumulative[k] + pow((data[k][j] - centroids[k][i]),2)\r\n",
        "    for k in range(len(cumulative)):\r\n",
        "      newCentroids[k][i] = cumulative[k]\r\n",
        "  return newCentroids\r\n",
        "  "
      ],
      "execution_count": 9,
      "outputs": []
    },
    {
      "cell_type": "code",
      "metadata": {
        "id": "8hZkekvE8Tdc"
      },
      "source": [
        "def cosine(data,centroid,i,j,X):\r\n",
        "  import math\r\n",
        "  total = np.dot(centroid[:,j],data[:,i])/(np.linalg.norm(centroid[:,j])*np.linalg.norm(data[:,i]))\r\n",
        "  return 1-total\r\n",
        "def groupingC(centroid, data):\r\n",
        "    assigned_centroid = np.zeros((len(data[0]),1),dtype=\"float64\")\r\n",
        "    for i in range(len(data[0])):\r\n",
        "        distance=np.zeros((len(centroid[0]),1),dtype=\"float64\")\r\n",
        "        for j in range(len(centroid[0])):\r\n",
        "            distance[j] = cosine(data,centroid,i,j,len(centroid))\r\n",
        "        assigned_centroid[i]=np.argmin(distance)\r\n",
        "    return assigned_centroid"
      ],
      "execution_count": 8,
      "outputs": []
    },
    {
      "cell_type": "code",
      "metadata": {
        "id": "cfajgWfQ8TyZ"
      },
      "source": [
        "def jackard(data,centroid,i,j,X):\r\n",
        "  import math\r\n",
        "  mi = 0\r\n",
        "  ma = 0\r\n",
        "  for k in range(X):\r\n",
        "    mi = mi + min(centroid[k,j],data[k,i])\r\n",
        "    ma = ma + max(centroid[k,j],data[k,i])\r\n",
        "  return 1-(mi/ma)\r\n",
        "def groupingJ(centroid, data):\r\n",
        "    assigned_centroid = np.zeros((len(data[0]),1),dtype=\"float64\")\r\n",
        "    for i in range(len(data[0])):\r\n",
        "        distance=np.zeros((len(centroid[0]),1),dtype=\"float64\")\r\n",
        "        for j in range(len(centroid[0])):\r\n",
        "            distance[j] = jackard(data,centroid,i,j,len(centroid))\r\n",
        "        assigned_centroid[i]=np.argmin(distance)\r\n",
        "    return assigned_centroid"
      ],
      "execution_count": 16,
      "outputs": []
    },
    {
      "cell_type": "code",
      "metadata": {
        "colab": {
          "base_uri": "https://localhost:8080/"
        },
        "id": "WzWkaMQyOzBi",
        "outputId": "0dec709f-45b8-4d29-b407-1cf0d929bc38"
      },
      "source": [
        "# Q1\r\n",
        "irisData = np.array(pd.read_csv(\"/content/iris.data\"))\r\n",
        "irisData = irisData.T\r\n",
        "irisData = irisData[:4]\r\n",
        "centroids = createCentroids(irisData,3)\r\n",
        "clusterListE = groupingE(centroids, irisData)\r\n",
        "Centroids = centroidRedefiner(clusterListE, irisData,centroids)\r\n",
        "error = SSE(clusterList, irisData,Centroids)\r\n",
        "print(\"list of new centroids(Euclidian):\")\r\n",
        "for i in range(len(Centroids[0])):\r\n",
        "  print(\"(%f, %f, %f, %f)\"%(Centroids[0][i],Centroids[1][i],Centroids[2][i],Centroids[3][i]))\r\n",
        "print(\"\\nSum of Squared error for each column(Euclidian):\")\r\n",
        "for i in range(len(error[0])):\r\n",
        "  print(\"(%f, %f, %f, %f)\"%(error[0][i],error[1][i],error[2][i],error[3][i]))\r\n",
        "\r\n",
        "centroids = createCentroids(irisData,3)\r\n",
        "clusterListC = groupingC(centroids, irisData)\r\n",
        "Centroids = centroidRedefiner(clusterListC, irisData,centroids)\r\n",
        "error = SSE(clusterList, irisData,Centroids)\r\n",
        "print(\"\\n\\nlist of new centroids(Cosine):\")\r\n",
        "for i in range(len(Centroids[0])):\r\n",
        "  print(\"(%f, %f, %f, %f)\"%(Centroids[0][i],Centroids[1][i],Centroids[2][i],Centroids[3][i]))\r\n",
        "print(\"\\nSum of Squared error for each column(Euclidian):\")\r\n",
        "for i in range(len(error[0])):\r\n",
        "  print(\"(%f, %f, %f, %f)\"%(error[0][i],error[1][i],error[2][i],error[3][i]))\r\n",
        "\r\n",
        "centroids = createCentroids(irisData,3)\r\n",
        "clusterListJ = groupingJ(centroids, irisData)\r\n",
        "Centroids = centroidRedefiner(clusterListJ, irisData,centroids)\r\n",
        "error = SSE(clusterList, irisData,Centroids)\r\n",
        "print(\"\\n\\nlist of new centroids(Jarcard):\")\r\n",
        "for i in range(len(Centroids[0])):\r\n",
        "  print(\"(%f, %f, %f, %f)\"%(Centroids[0][i],Centroids[1][i],Centroids[2][i],Centroids[3][i]))\r\n",
        "print(\"\\nSum of Squared error for each column(Euclidian):\")\r\n",
        "for i in range(len(error[0])):\r\n",
        "  print(\"(%f, %f, %f, %f)\"%(error[0][i],error[1][i],error[2][i],error[3][i]))"
      ],
      "execution_count": 35,
      "outputs": [
        {
          "output_type": "stream",
          "text": [
            "list of new centroids(Euclidian):\n",
            "(4.704762, 3.095238, 1.385714, 0.190476)\n",
            "(6.287755, 2.880612, 4.941837, 1.688776)\n",
            "(5.213333, 3.576667, 1.633333, 0.336667)\n",
            "\n",
            "Sum of Squared error for each column(Euclidian):\n",
            "(0.958549, 1.076644, 0.485510, 0.066100)\n",
            "(43.561933, 10.969017, 67.604827, 17.878721)\n",
            "(2.199822, 2.361122, 1.135556, 0.448322)\n",
            "\n",
            "\n",
            "list of new centroids(Cosine):\n",
            "(5.036364, 3.154545, 1.390909, 0.172727)\n",
            "(6.262000, 2.872000, 4.906000, 1.676000)\n",
            "(4.994737, 3.492105, 1.486842, 0.265789)\n",
            "\n",
            "Sum of Squared error for each column(Euclidian):\n",
            "(3.088264, 1.183140, 0.486198, 0.068512)\n",
            "(43.495600, 10.961600, 67.476400, 17.862400)\n",
            "(3.503961, 2.919702, 0.800810, 0.386572)\n",
            "\n",
            "\n",
            "list of new centroids(Jarcard):\n",
            "(4.710000, 3.080000, 1.385000, 0.185000)\n",
            "(6.262000, 2.872000, 4.906000, 1.676000)\n",
            "(5.206897, 3.648276, 1.520690, 0.286207)\n",
            "\n",
            "Sum of Squared error for each column(Euclidian):\n",
            "(0.958000, 1.072000, 0.485500, 0.065500)\n",
            "(43.495600, 10.961600, 67.476400, 17.862400)\n",
            "(2.198621, 2.212414, 0.767586, 0.374483)\n"
          ],
          "name": "stdout"
        }
      ]
    },
    {
      "cell_type": "code",
      "metadata": {
        "colab": {
          "base_uri": "https://localhost:8080/"
        },
        "id": "fj3I_4zrS9Hc",
        "outputId": "adab135d-ed5d-4737-890d-2c7b7fe785cb"
      },
      "source": [
        "#Q2\r\n",
        "def stats(data,clusterList,K):\r\n",
        "  statList = np.zeros((2,K),dtype=\"float64\")\r\n",
        "  for i in range(K):\r\n",
        "    counter = np.zeros((K,1),dtype=\"int\")\r\n",
        "    for j in range(len(clusterList)):\r\n",
        "      if(clusterList[j] == i):\r\n",
        "        if(data[4][j] == \"Iris-setosa\"):\r\n",
        "          counter[0] = counter[0] + 1\r\n",
        "        if(data[4][j] == \"Iris-versicolor\"):\r\n",
        "          counter[1] = counter[1] + 1\r\n",
        "        if(data[4][j] == \"Iris-virginica\"):\r\n",
        "          counter[2] = counter[2] + 1\r\n",
        "    print()\r\n",
        "    print(counter)\r\n",
        "    statList[0][i] = np.argmax(counter)\r\n",
        "    statList[1][i] = counter[np.argmax(counter)]/np.sum(counter)\r\n",
        "  return statList\r\n",
        "irisData = np.array(pd.read_csv(\"/content/iris.data\"))\r\n",
        "irisData = irisData.T\r\n",
        "statE = stats(irisData,clusterListE,3)\r\n",
        "lister = [\"Iris Setosa\",\"Iris Versicolour\",\"Iris Virginica\"]\r\n",
        "print(\"\\n\\nEuclidian Results:  \")\r\n",
        "for i in range(len(statE[0])):\r\n",
        "  print(\"%s  %f\"%(lister[int(statE[0][i])],statE[1][i])) \r\n",
        "statC = stats(irisData,clusterListC,3)\r\n",
        "print(\"\\n\\nCosine Results:  \")\r\n",
        "for i in range(len(statC[0])):\r\n",
        "  print(\"%s  %f\"%(lister[int(statC[0][i])],statC[1][i])) \r\n",
        "statJ = stats(irisData,clusterListJ,3)\r\n",
        "print(\"\\n\\nJaccard Results:  \")\r\n",
        "for i in range(len(statJ[0])):\r\n",
        "  print(\"%s  %f\"%(lister[int(statJ[0][i])],statJ[1][i])) "
      ],
      "execution_count": 49,
      "outputs": [
        {
          "output_type": "stream",
          "text": [
            "\n",
            "[[21]\n",
            " [ 0]\n",
            " [ 0]]\n",
            "\n",
            "[[ 0]\n",
            " [48]\n",
            " [50]]\n",
            "\n",
            "[[28]\n",
            " [ 2]\n",
            " [ 0]]\n",
            "\n",
            "\n",
            "Euclidian Results:  \n",
            "Iris Setosa  1.000000\n",
            "Iris Virginica  0.510204\n",
            "Iris Setosa  0.933333\n",
            "\n",
            "[[11]\n",
            " [ 0]\n",
            " [ 0]]\n",
            "\n",
            "[[ 0]\n",
            " [50]\n",
            " [50]]\n",
            "\n",
            "[[38]\n",
            " [ 0]\n",
            " [ 0]]\n",
            "\n",
            "\n",
            "Cosine Results:  \n",
            "Iris Setosa  1.000000\n",
            "Iris Versicolour  0.500000\n",
            "Iris Setosa  1.000000\n",
            "\n",
            "[[20]\n",
            " [ 0]\n",
            " [ 0]]\n",
            "\n",
            "[[ 0]\n",
            " [50]\n",
            " [50]]\n",
            "\n",
            "[[29]\n",
            " [ 0]\n",
            " [ 0]]\n",
            "\n",
            "\n",
            "Jaccard Results:  \n",
            "Iris Setosa  1.000000\n",
            "Iris Versicolour  0.500000\n",
            "Iris Setosa  1.000000\n"
          ],
          "name": "stdout"
        }
      ]
    },
    {
      "cell_type": "code",
      "metadata": {
        "colab": {
          "base_uri": "https://localhost:8080/"
        },
        "id": "LiYaao1VYDno",
        "outputId": "8ec6569d-1200-49f3-e749-ae311a2d73a4"
      },
      "source": [
        "# Q3\r\n",
        "irisData = np.array(pd.read_csv(\"/content/iris.data\"))\r\n",
        "irisData = irisData.T\r\n",
        "irisData = irisData[:4]\r\n",
        "centroids = createCentroids(irisData,3)\r\n",
        "for i in range(10):\r\n",
        "  clusterList = groupingE(centroids, irisData)\r\n",
        "  Centroids = centroidRedefiner(clusterList, irisData,centroids)\r\n",
        "  centroids = Centroids\r\n",
        "  error = SSE(clusterList, irisData,Centroids)\r\n",
        "  print(\"\\n\\nlist of new centroids(Euclidian):\")\r\n",
        "  for i in range(len(Centroids[0])):\r\n",
        "    print(\"(%f, %f, %f, %f)\"%(Centroids[0][i],Centroids[1][i],Centroids[2][i],Centroids[3][i]))\r\n",
        "print(\"\\nSum of Squared error for each column(Euclidian):\")\r\n",
        "for i in range(len(error[0])):\r\n",
        "  print(\"(%f, %f, %f, %f)\"%(error[0][i],error[1][i],error[2][i],error[3][i]))\r\n",
        "\r\n",
        "centroids = createCentroids(irisData,3)\r\n",
        "for i in range(10): \r\n",
        "  clusterList = groupingC(centroids, irisData)\r\n",
        "  Centroids = centroidRedefiner(clusterList, irisData,centroids)\r\n",
        "  centroids = Centroids\r\n",
        "  error = SSE(clusterList, irisData,Centroids)\r\n",
        "  print(\"\\n\\nlist of new centroids(Cosine):\")\r\n",
        "  for i in range(len(Centroids[0])):\r\n",
        "    print(\"(%f, %f, %f, %f)\"%(Centroids[0][i],Centroids[1][i],Centroids[2][i],Centroids[3][i]))\r\n",
        "print(\"\\nSum of Squared error for each column(Cosine):\")\r\n",
        "for i in range(len(error[0])):\r\n",
        "  print(\"(%f, %f, %f, %f)\"%(error[0][i],error[1][i],error[2][i],error[3][i]))\r\n",
        "\r\n",
        "centroids = createCentroids(irisData,3)\r\n",
        "for i in range(10):\r\n",
        "  clusterList = groupingJ(centroids, irisData)\r\n",
        "  Centroids = centroidRedefiner(clusterList, irisData,centroids)\r\n",
        "  centroids = Centroids\r\n",
        "  error = SSE(clusterList, irisData,Centroids)\r\n",
        "  print(\"\\n\\nlist of new centroids(Jaccard):\")\r\n",
        "  for i in range(len(Centroids[0])):\r\n",
        "    print(\"(%f, %f, %f, %f)\"%(Centroids[0][i],Centroids[1][i],Centroids[2][i],Centroids[3][i]))\r\n",
        "print(\"\\nSum of Squared error for each column(Jaccard):\")\r\n",
        "for i in range(len(error[0])):\r\n",
        "  print(\"(%f, %f, %f, %f)\"%(error[0][i],error[1][i],error[2][i],error[3][i]))"
      ],
      "execution_count": 345,
      "outputs": [
        {
          "output_type": "stream",
          "text": [
            "\n",
            "\n",
            "list of new centroids(Euclidian):\n",
            "(4.704762, 3.095238, 1.385714, 0.190476)\n",
            "(6.287755, 2.880612, 4.941837, 1.688776)\n",
            "(5.213333, 3.576667, 1.633333, 0.336667)\n",
            "\n",
            "\n",
            "list of new centroids(Euclidian):\n",
            "(4.709091, 3.109091, 1.395455, 0.190909)\n",
            "(6.301031, 2.886598, 4.958763, 1.695876)\n",
            "(5.220000, 3.540000, 1.690000, 0.363333)\n",
            "\n",
            "\n",
            "list of new centroids(Euclidian):\n",
            "(4.709091, 3.109091, 1.395455, 0.190909)\n",
            "(6.301031, 2.886598, 4.958763, 1.695876)\n",
            "(5.220000, 3.540000, 1.690000, 0.363333)\n",
            "\n",
            "\n",
            "list of new centroids(Euclidian):\n",
            "(4.709091, 3.109091, 1.395455, 0.190909)\n",
            "(6.301031, 2.886598, 4.958763, 1.695876)\n",
            "(5.220000, 3.540000, 1.690000, 0.363333)\n",
            "\n",
            "\n",
            "list of new centroids(Euclidian):\n",
            "(4.709091, 3.109091, 1.395455, 0.190909)\n",
            "(6.301031, 2.886598, 4.958763, 1.695876)\n",
            "(5.220000, 3.540000, 1.690000, 0.363333)\n",
            "\n",
            "\n",
            "list of new centroids(Euclidian):\n",
            "(4.709091, 3.109091, 1.395455, 0.190909)\n",
            "(6.301031, 2.886598, 4.958763, 1.695876)\n",
            "(5.220000, 3.540000, 1.690000, 0.363333)\n",
            "\n",
            "\n",
            "list of new centroids(Euclidian):\n",
            "(4.709091, 3.109091, 1.395455, 0.190909)\n",
            "(6.301031, 2.886598, 4.958763, 1.695876)\n",
            "(5.220000, 3.540000, 1.690000, 0.363333)\n",
            "\n",
            "\n",
            "list of new centroids(Euclidian):\n",
            "(4.709091, 3.109091, 1.395455, 0.190909)\n",
            "(6.301031, 2.886598, 4.958763, 1.695876)\n",
            "(5.220000, 3.540000, 1.690000, 0.363333)\n",
            "\n",
            "\n",
            "list of new centroids(Euclidian):\n",
            "(4.709091, 3.109091, 1.395455, 0.190909)\n",
            "(6.301031, 2.886598, 4.958763, 1.695876)\n",
            "(5.220000, 3.540000, 1.690000, 0.363333)\n",
            "\n",
            "\n",
            "list of new centroids(Euclidian):\n",
            "(4.709091, 3.109091, 1.395455, 0.190909)\n",
            "(6.301031, 2.886598, 4.958763, 1.695876)\n",
            "(5.220000, 3.540000, 1.690000, 0.363333)\n",
            "\n",
            "Sum of Squared error for each column(Euclidian):\n",
            "(0.978182, 1.258182, 0.529545, 0.078182)\n",
            "(38.549897, 10.252577, 58.415052, 16.578351)\n",
            "(1.808000, 6.432000, 8.407000, 1.869667)\n",
            "\n",
            "\n",
            "list of new centroids(Cosine):\n",
            "(5.036364, 3.154545, 1.390909, 0.172727)\n",
            "(6.262000, 2.872000, 4.906000, 1.676000)\n",
            "(4.994737, 3.492105, 1.486842, 0.265789)\n",
            "\n",
            "\n",
            "list of new centroids(Cosine):\n",
            "(5.000000, 3.126667, 1.446667, 0.200000)\n",
            "(6.262000, 2.872000, 4.906000, 1.676000)\n",
            "(5.005882, 3.544118, 1.473529, 0.264706)\n",
            "\n",
            "\n",
            "list of new centroids(Cosine):\n",
            "(4.977778, 3.138889, 1.461111, 0.216667)\n",
            "(6.262000, 2.872000, 4.906000, 1.676000)\n",
            "(5.019355, 3.577419, 1.467742, 0.261290)\n",
            "\n",
            "\n",
            "list of new centroids(Cosine):\n",
            "(4.980952, 3.171429, 1.480952, 0.219048)\n",
            "(6.262000, 2.872000, 4.906000, 1.676000)\n",
            "(5.021429, 3.600000, 1.453571, 0.264286)\n",
            "\n",
            "\n",
            "list of new centroids(Cosine):\n",
            "(4.983333, 3.204167, 1.504167, 0.225000)\n",
            "(6.262000, 2.872000, 4.906000, 1.676000)\n",
            "(5.024000, 3.620000, 1.428000, 0.264000)\n",
            "\n",
            "\n",
            "list of new centroids(Cosine):\n",
            "(4.961538, 3.203846, 1.496154, 0.223077)\n",
            "(6.262000, 2.872000, 4.906000, 1.676000)\n",
            "(5.052174, 3.656522, 1.430435, 0.269565)\n",
            "\n",
            "\n",
            "list of new centroids(Cosine):\n",
            "(4.961538, 3.203846, 1.496154, 0.223077)\n",
            "(6.262000, 2.872000, 4.906000, 1.676000)\n",
            "(5.052174, 3.656522, 1.430435, 0.269565)\n",
            "\n",
            "\n",
            "list of new centroids(Cosine):\n",
            "(4.961538, 3.203846, 1.496154, 0.223077)\n",
            "(6.262000, 2.872000, 4.906000, 1.676000)\n",
            "(5.052174, 3.656522, 1.430435, 0.269565)\n",
            "\n",
            "\n",
            "list of new centroids(Cosine):\n",
            "(4.961538, 3.203846, 1.496154, 0.223077)\n",
            "(6.262000, 2.872000, 4.906000, 1.676000)\n",
            "(5.052174, 3.656522, 1.430435, 0.269565)\n",
            "\n",
            "\n",
            "list of new centroids(Cosine):\n",
            "(4.961538, 3.203846, 1.496154, 0.223077)\n",
            "(6.262000, 2.872000, 4.906000, 1.676000)\n",
            "(5.052174, 3.656522, 1.430435, 0.269565)\n",
            "\n",
            "Sum of Squared error for each column(Cosine):\n",
            "(2.541538, 1.989615, 0.589615, 0.226154)\n",
            "(43.495600, 10.961600, 67.476400, 17.862400)\n",
            "(3.437391, 2.616522, 0.828696, 0.308696)\n",
            "\n",
            "\n",
            "list of new centroids(Jaccard):\n",
            "(4.710000, 3.080000, 1.385000, 0.185000)\n",
            "(6.262000, 2.872000, 4.906000, 1.676000)\n",
            "(5.206897, 3.648276, 1.520690, 0.286207)\n",
            "\n",
            "\n",
            "list of new centroids(Jaccard):\n",
            "(4.713043, 3.121739, 1.417391, 0.191304)\n",
            "(6.262000, 2.872000, 4.906000, 1.676000)\n",
            "(5.261538, 3.676923, 1.507692, 0.292308)\n",
            "\n",
            "\n",
            "list of new centroids(Jaccard):\n",
            "(4.713043, 3.121739, 1.417391, 0.191304)\n",
            "(6.262000, 2.872000, 4.906000, 1.676000)\n",
            "(5.261538, 3.676923, 1.507692, 0.292308)\n",
            "\n",
            "\n",
            "list of new centroids(Jaccard):\n",
            "(4.713043, 3.121739, 1.417391, 0.191304)\n",
            "(6.262000, 2.872000, 4.906000, 1.676000)\n",
            "(5.261538, 3.676923, 1.507692, 0.292308)\n",
            "\n",
            "\n",
            "list of new centroids(Jaccard):\n",
            "(4.713043, 3.121739, 1.417391, 0.191304)\n",
            "(6.262000, 2.872000, 4.906000, 1.676000)\n",
            "(5.261538, 3.676923, 1.507692, 0.292308)\n",
            "\n",
            "\n",
            "list of new centroids(Jaccard):\n",
            "(4.713043, 3.121739, 1.417391, 0.191304)\n",
            "(6.262000, 2.872000, 4.906000, 1.676000)\n",
            "(5.261538, 3.676923, 1.507692, 0.292308)\n",
            "\n",
            "\n",
            "list of new centroids(Jaccard):\n",
            "(4.713043, 3.121739, 1.417391, 0.191304)\n",
            "(6.262000, 2.872000, 4.906000, 1.676000)\n",
            "(5.261538, 3.676923, 1.507692, 0.292308)\n",
            "\n",
            "\n",
            "list of new centroids(Jaccard):\n",
            "(4.713043, 3.121739, 1.417391, 0.191304)\n",
            "(6.262000, 2.872000, 4.906000, 1.676000)\n",
            "(5.261538, 3.676923, 1.507692, 0.292308)\n",
            "\n",
            "\n",
            "list of new centroids(Jaccard):\n",
            "(4.713043, 3.121739, 1.417391, 0.191304)\n",
            "(6.262000, 2.872000, 4.906000, 1.676000)\n",
            "(5.261538, 3.676923, 1.507692, 0.292308)\n",
            "\n",
            "\n",
            "list of new centroids(Jaccard):\n",
            "(4.713043, 3.121739, 1.417391, 0.191304)\n",
            "(6.262000, 2.872000, 4.906000, 1.676000)\n",
            "(5.261538, 3.676923, 1.507692, 0.292308)\n",
            "\n",
            "Sum of Squared error for each column(Jaccard):\n",
            "(0.986087, 1.339130, 0.773043, 0.078261)\n",
            "(43.495600, 10.961600, 67.476400, 17.862400)\n",
            "(1.421538, 2.006154, 0.598462, 0.358462)\n"
          ],
          "name": "stdout"
        }
      ]
    },
    {
      "cell_type": "code",
      "metadata": {
        "id": "upKsTGgHQN4a"
      },
      "source": [
        ""
      ],
      "execution_count": 345,
      "outputs": []
    }
  ]
}