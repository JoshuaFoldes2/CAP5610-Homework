{
  "nbformat": 4,
  "nbformat_minor": 0,
  "metadata": {
    "colab": {
      "name": "Untitled4.ipynb",
      "provenance": []
    },
    "kernelspec": {
      "name": "python3",
      "display_name": "Python 3"
    }
  },
  "cells": [
    {
      "cell_type": "code",
      "metadata": {
        "id": "pGmcfUjljNDo"
      },
      "source": [
        "import seaborn as sns\r\n",
        "import pandas as pd\r\n",
        "import numpy as np\r\n",
        "from matplotlib import pyplot as plt\r\n",
        "train_df =pd.read_csv('/content/train.csv')\r\n",
        "test_df =pd.read_csv('/content/test.csv')\r\n",
        "combine =[train_df, test_df]\r\n",
        "frame = pd.DataFrame(data=train_df)\r\n",
        "frame2 = pd.DataFrame(data=test_df)\r\n",
        "from sklearn import tree\r\n",
        "import pydotplus\r\n",
        "from sklearn.tree import DecisionTreeClassifier\r\n",
        "import matplotlib.pyplot as plt\r\n",
        "import matplotlib.image as pltimg\r\n",
        "from sklearn import svm, datasets \r\n",
        "\r\n",
        "frame['Gender'] = 0\r\n",
        "frame2['Gender'] = 0\r\n",
        "for i in range(len(frame['Sex'])):\r\n",
        "  if(frame['Sex'][i] == 'female'):\r\n",
        "    frame.at[i,'Gender'] = 1\r\n",
        "for i in range(len(frame2['Sex'])):\r\n",
        "  if(frame2['Sex'][i] == 'female'):\r\n",
        "    frame2.at[i,'Gender'] = 1  \r\n",
        "\r\n",
        "import random\r\n",
        "find = frame['Age'].isnull()\r\n",
        "for i in range(len(frame['Age'])):\r\n",
        "  if(find[i] == True):\r\n",
        "    frame.at[i,'Age'] = random.randint(0,81)\r\n",
        "find = frame2['Age'].isnull()\r\n",
        "for i in range(len(frame2['Age'])):\r\n",
        "  if(find[i] == True):\r\n",
        "    frame2.at[i,'Age'] = random.randint(0,81)\r\n",
        "\r\n",
        "find = frame['Embarked'].isnull()\r\n",
        "for i in range(len(frame['Embarked'])):\r\n",
        "  if(find[i] == True):\r\n",
        "    frame.at[i,'Embarked'] = 'S'\r\n",
        "find = frame2['Embarked'].isnull()\r\n",
        "for i in range(len(frame2['Embarked'])):\r\n",
        "  if(find[i] == True):\r\n",
        "    frame2.at[i,'Embarked'] = 'S'\r\n",
        "\r\n",
        "mod = frame['Fare'].mode()\r\n",
        "for i in range(len(frame['Fare'])):\r\n",
        "  if(frame['Fare'][i] == 0):\r\n",
        "    frame.at[i,'Fare'] = mod\r\n",
        "mod = frame2['Fare'].mode()\r\n",
        "for i in range(len(frame2['Fare'])):\r\n",
        "  if(frame2['Fare'][i] == 0):\r\n",
        "    frame2.at[i,'Fare'] = mod\r\n",
        "\r\n",
        "frame['AgeBand'] = 0\r\n",
        "frame2['AgeBand'] = 0\r\n",
        "for i in range(len(frame['Age'])):\r\n",
        "  if(frame['Age'][i] > 20.125 and frame['Age'][i] <= 28):\r\n",
        "    frame.at[i,'AgeBand'] = 1\r\n",
        "  if(frame['Age'][i] > 28 and frame['Fare'][i] <= 38.0):\r\n",
        "    frame.at[i,'AgeBand'] = 2\r\n",
        "  if(frame['Age'][i] >38.0):\r\n",
        "    frame.at[i,'AgeBand'] = 3\r\n",
        "for i in range(len(frame2['Fare'])):\r\n",
        "  if(frame2['Age'][i] >20.125 and frame2['Age'][i] <= 28):\r\n",
        "    frame2.at[i,'AgeBand'] = 1\r\n",
        "  if(frame2['Age'][i] >28 and frame2['Age'][i] <= 38.0):\r\n",
        "    frame2.at[i,'AgeBand'] = 2\r\n",
        "  if(frame2['Age'][i] >38.0):\r\n",
        "    frame2.at[i,'AgeBand'] = 3 "
      ],
      "execution_count": null,
      "outputs": []
    },
    {
      "cell_type": "code",
      "metadata": {
        "colab": {
          "base_uri": "https://localhost:8080/"
        },
        "id": "98bj-bKtjUbu",
        "outputId": "2c795191-bdde-4bf1-a59c-31e3026a13dc"
      },
      "source": [
        "features=['Pclass','Gender','AgeBand']\r\n",
        "x = train_df[features]\r\n",
        "y = train_df['Survived']\r\n",
        "svc = svm.SVC(kernel ='linear', C = 1).fit(x,y)\r\n",
        "svc"
      ],
      "execution_count": null,
      "outputs": [
        {
          "output_type": "execute_result",
          "data": {
            "text/plain": [
              "SVC(C=1, break_ties=False, cache_size=200, class_weight=None, coef0=0.0,\n",
              "    decision_function_shape='ovr', degree=3, gamma='scale', kernel='linear',\n",
              "    max_iter=-1, probability=False, random_state=None, shrinking=True,\n",
              "    tol=0.001, verbose=False)"
            ]
          },
          "metadata": {
            "tags": []
          },
          "execution_count": 114
        }
      ]
    },
    {
      "cell_type": "code",
      "metadata": {
        "colab": {
          "base_uri": "https://localhost:8080/"
        },
        "id": "twjwIFc6ozEu",
        "outputId": "feb3abd3-c62f-48a4-962b-d89fe70e1109"
      },
      "source": [
        "from sklearn.model_selection import cross_val_score\r\n",
        "print(cross_val_score(svc,x,y,cv=5))"
      ],
      "execution_count": null,
      "outputs": [
        {
          "output_type": "stream",
          "text": [
            "[0.80446927 0.80337079 0.78651685 0.75280899 0.78651685]\n"
          ],
          "name": "stdout"
        }
      ]
    },
    {
      "cell_type": "code",
      "metadata": {
        "colab": {
          "base_uri": "https://localhost:8080/"
        },
        "id": "j9sLzp1wub2l",
        "outputId": "9f26ef73-7166-44e0-965c-2e9ab4c47344"
      },
      "source": [
        "svq = svm.SVC(kernel='poly', gamma=1, C=1).fit(x,y)\r\n",
        "svq"
      ],
      "execution_count": null,
      "outputs": [
        {
          "output_type": "execute_result",
          "data": {
            "text/plain": [
              "SVC(C=1, break_ties=False, cache_size=200, class_weight=None, coef0=0.0,\n",
              "    decision_function_shape='ovr', degree=3, gamma=1, kernel='poly',\n",
              "    max_iter=-1, probability=False, random_state=None, shrinking=True,\n",
              "    tol=0.001, verbose=False)"
            ]
          },
          "metadata": {
            "tags": []
          },
          "execution_count": 116
        }
      ]
    },
    {
      "cell_type": "code",
      "metadata": {
        "colab": {
          "base_uri": "https://localhost:8080/"
        },
        "id": "CB9R-gj3tVZX",
        "outputId": "5d400dea-6aef-46f3-9984-566afec47e84"
      },
      "source": [
        "print(cross_val_score(svq,x,y,cv=5))"
      ],
      "execution_count": null,
      "outputs": [
        {
          "output_type": "stream",
          "text": [
            "[0.74860335 0.79775281 0.76966292 0.75280899 0.78651685]\n"
          ],
          "name": "stdout"
        }
      ]
    },
    {
      "cell_type": "code",
      "metadata": {
        "colab": {
          "base_uri": "https://localhost:8080/"
        },
        "id": "y9Y00HOSo5J0",
        "outputId": "1f02eff4-c1de-49bf-f956-188bfb5c1cf2"
      },
      "source": [
        "svrbf = svm.SVC(kernel='rbf', gamma=5, C=1).fit(x,y)\r\n",
        "svrbf\r\n"
      ],
      "execution_count": null,
      "outputs": [
        {
          "output_type": "execute_result",
          "data": {
            "text/plain": [
              "SVC(C=1, break_ties=False, cache_size=200, class_weight=None, coef0=0.0,\n",
              "    decision_function_shape='ovr', degree=3, gamma=5, kernel='rbf', max_iter=-1,\n",
              "    probability=False, random_state=None, shrinking=True, tol=0.001,\n",
              "    verbose=False)"
            ]
          },
          "metadata": {
            "tags": []
          },
          "execution_count": 118
        }
      ]
    },
    {
      "cell_type": "code",
      "metadata": {
        "colab": {
          "base_uri": "https://localhost:8080/"
        },
        "id": "41Rd0f-yo5cI",
        "outputId": "d7e046cd-78e2-4b8a-be09-85b778d50a61"
      },
      "source": [
        "print(cross_val_score(svrbf,x,y,cv=5))"
      ],
      "execution_count": null,
      "outputs": [
        {
          "output_type": "stream",
          "text": [
            "[0.73743017 0.7752809  0.78089888 0.75842697 0.76966292]\n"
          ],
          "name": "stdout"
        }
      ]
    },
    {
      "cell_type": "code",
      "metadata": {
        "colab": {
          "base_uri": "https://localhost:8080/"
        },
        "id": "6uWn40FFwCMi",
        "outputId": "4fc4be54-a356-4de9-dc16-b4ae9f9a8875"
      },
      "source": [
        "x = [[ -1,-1],[-1,1],[1,-1],[1,1]]\r\n",
        "y = [0,1,1,0]\r\n",
        "svc = svm.SVC(kernel ='linear',C = 1).fit(x,y)\r\n",
        "svc"
      ],
      "execution_count": null,
      "outputs": [
        {
          "output_type": "execute_result",
          "data": {
            "text/plain": [
              "SVC(C=1, break_ties=False, cache_size=200, class_weight=None, coef0=0.0,\n",
              "    decision_function_shape='ovr', degree=3, gamma='scale', kernel='linear',\n",
              "    max_iter=-1, probability=False, random_state=None, shrinking=True,\n",
              "    tol=0.001, verbose=False)"
            ]
          },
          "metadata": {
            "tags": []
          },
          "execution_count": 127
        }
      ]
    }
  ]
}